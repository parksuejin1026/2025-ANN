{
  "nbformat": 4,
  "nbformat_minor": 0,
  "metadata": {
    "colab": {
      "provenance": [],
      "authorship_tag": "ABX9TyM0it6mjiFGziqzzlbOkeIy",
      "include_colab_link": true
    },
    "kernelspec": {
      "name": "python3",
      "display_name": "Python 3"
    },
    "language_info": {
      "name": "python"
    }
  },
  "cells": [
    {
      "cell_type": "markdown",
      "metadata": {
        "id": "view-in-github",
        "colab_type": "text"
      },
      "source": [
        "<a href=\"https://colab.research.google.com/github/parksuejin1026/2025-ANN/blob/main/Weeks6/MLP.ipynb\" target=\"_parent\"><img src=\"https://colab.research.google.com/assets/colab-badge.svg\" alt=\"Open In Colab\"/></a>"
      ]
    },
    {
      "cell_type": "code",
      "execution_count": null,
      "metadata": {
        "id": "jR60R9snM-l1"
      },
      "outputs": [],
      "source": [
        "# XOR 문제 해결 실습"
      ]
    },
    {
      "cell_type": "code",
      "source": [
        "import numpy as np\n",
        "\n",
        "w11 = np.array([-2, -2])\n",
        "w12 = np.array([2, 2])\n",
        "w2 = np.array([1, 1])\n",
        "b1 = 3\n",
        "b2 = -1\n",
        "b3 = -1"
      ],
      "metadata": {
        "id": "630E7485NG4x"
      },
      "execution_count": 1,
      "outputs": []
    },
    {
      "cell_type": "code",
      "source": [
        "def MLP(x, w, b):\n",
        "  y = np.sum(w * x) + b\n",
        "  if y <= 0:\n",
        "    return 0\n",
        "  else:\n",
        "    return 1"
      ],
      "metadata": {
        "id": "-CUeXzaPNUgS"
      },
      "execution_count": 2,
      "outputs": []
    },
    {
      "cell_type": "code",
      "source": [
        "# NAND 게이트\n",
        "def NAND(x1, x2):\n",
        "  return MLP(np.array([x1, x2]), w11, b1)\n",
        "\n",
        "# OR 게이트\n",
        "def OR(x1, x2):\n",
        "  return MLP(np.array([x1, x2]), w12, b2)\n",
        "\n",
        "# AND 게이트\n",
        "def AND(x1, x2):\n",
        "  return MLP(np.array([x1, x2]), w2, b3)\n",
        "\n",
        "# XOR 게이트\n",
        "def XOR(x1, x2):\n",
        "  return AND(NAND(x1, x2), OR(x1, x2))"
      ],
      "metadata": {
        "id": "JtqmpVHlNffI"
      },
      "execution_count": 8,
      "outputs": []
    },
    {
      "cell_type": "code",
      "source": [
        "for x in [(0,0), (1,0), (0,1), (1,1)]:\n",
        "  y = XOR(x[0], x[1])\n",
        "  print(\"입력 값 : \" + str(x) + \"출력 값 : \" + str(y))"
      ],
      "metadata": {
        "colab": {
          "base_uri": "https://localhost:8080/"
        },
        "id": "Ssnt-VwNN6CI",
        "outputId": "ce98f8f9-f7ec-47e7-ca0d-f343aeeec007"
      },
      "execution_count": 9,
      "outputs": [
        {
          "output_type": "stream",
          "name": "stdout",
          "text": [
            "입력 값 : (0, 0)출력 값 : 0\n",
            "입력 값 : (1, 0)출력 값 : 1\n",
            "입력 값 : (0, 1)출력 값 : 1\n",
            "입력 값 : (1, 1)출력 값 : 0\n"
          ]
        }
      ]
    },
    {
      "cell_type": "code",
      "source": [
        "import numpy as np\n",
        "from tensorflow import keras\n",
        "from tensorflow.keras.models import Sequential\n",
        "from tensorflow.keras.layers import Dense\n",
        "\n",
        "# ## 1. 데이터 준비 (XOR 진리표) ##\n",
        "# 입력 데이터 (X)와 정답 레이블 (Y)를 정의합니다.\n",
        "# XOR는 두 입력이 다를 때만 1을 출력하고, 같을 때는 0을 출력합니다.\n",
        "# 입력 X: [0, 0], [0, 1], [1, 0], [1, 1]\n",
        "# 정답 Y:    [0],    [1],    [1],    [0]\n",
        "X = np.array([\n",
        "    [0, 0],\n",
        "    [0, 1],\n",
        "    [1, 0],\n",
        "    [1, 1]\n",
        "], dtype=np.float32)\n",
        "\n",
        "Y = np.array([\n",
        "    [0],\n",
        "    [1],\n",
        "    [1],\n",
        "    [0]\n",
        "], dtype=np.float32)\n",
        "\n",
        "# ## 2. Keras 모델 구축 (다층 퍼셉트론) ##\n",
        "# Sequential 모델은 층을 순서대로 쌓아 올리는 가장 간단한 방법입니다.\n",
        "model = Sequential()\n",
        "\n",
        "# 첫 번째 층 (은닉층):\n",
        "# - Dense: 일반적인 완전 연결(Fully Connected) 층을 의미합니다.\n",
        "# - units=8: 은닉층의 뉴런(노드) 개수를 8개로 설정합니다. (임의의 값, 보통 2의 n승)\n",
        "# - input_dim=2: 입력 데이터의 특성(피처) 개수가 2개임을 지정합니다. (XOR의 입력은 2개)\n",
        "# - activation='relu': 활성화 함수로 'ReLU' (Rectified Linear Unit)를 사용합니다.\n",
        "#                    ReLU는 비선형성을 추가하여 XOR 같은 복잡한 문제를 해결할 수 있게 합니다.\n",
        "model.add(Dense(units=8, input_dim=2, activation='relu'))\n",
        "\n",
        "# 두 번째 층 (출력층):\n",
        "# - units=1: 출력층의 뉴런 개수를 1개로 설정합니다. (XOR의 출력은 0 또는 1)\n",
        "# - activation='sigmoid': 활성화 함수로 'sigmoid'를 사용합니다.\n",
        "#                       시그모이드는 출력을 0과 1 사이의 값으로 압축하여 이진 분류에 적합합니다.\n",
        "model.add(Dense(units=1, activation='sigmoid'))\n",
        "\n",
        "# ## 3. 모델 설정 (컴파일) ##\n",
        "# 모델이 학습을 할 수 있도록 설정을 해줍니다.\n",
        "# - optimizer='adam': 가중치를 어떻게 업데이트할지 결정하는 최적화 알고리즘입니다. (가장 흔하게 사용됨)\n",
        "# - loss='binary_crossentropy': 이진 분류 문제에 사용되는 손실(오차) 함수입니다. (모델의 예측이 정답과 얼마나 다른지 측정)\n",
        "# - metrics=['accuracy']: 학습하는 동안과 학습 후에 평가할 기준(성능 지표)입니다. 여기서는 정확도(accuracy)를 사용합니다.\n",
        "model.compile(optimizer='adam', loss='binary_crossentropy', metrics=['accuracy'])\n",
        "\n",
        "# ## 4. 모델 학습 (훈련) ##\n",
        "# 모델에 데이터(X)를 넣어 정답(Y)을 맞히도록 훈련시킵니다.\n",
        "# - epochs=10000: 전체 데이터셋을 몇 번 반복해서 학습시킬지 결정합니다. XOR는 간단하여 많이 반복해야 잘 학습됩니다.\n",
        "# - verbose=0: 학습 진행 상황을 화면에 출력하지 않도록 설정합니다. (1로 설정하면 과정 출력)\n",
        "print(\"모델 학습 시작...\")\n",
        "model.fit(X, Y, epochs=10000, verbose=0)\n",
        "print(\"모델 학습 완료!\")\n",
        "\n",
        "# ## 5. 모델 평가 및 예측 ##\n",
        "# 훈련된 모델이 실제로 XOR 문제를 해결하는지 확인합니다.\n",
        "\n",
        "# 5.1. 모델 평가\n",
        "# 모델의 성능을 최종적으로 평가합니다.\n",
        "loss, accuracy = model.evaluate(X, Y, verbose=0)\n",
        "print(f\"\\n모델 평가 결과 - 손실(Loss): {loss:.4f}, 정확도(Accuracy): {accuracy*100:.2f}%\")\n",
        "\n",
        "# 5.2. 예측\n",
        "# 학습에 사용된 입력 X를 다시 넣어 모델의 예측값을 확인합니다.\n",
        "predictions = model.predict(X)\n",
        "\n",
        "print(\"\\n--- 예측 결과 (Predicted Output) ---\")\n",
        "for i in range(len(X)):\n",
        "    # 예측값을 0 또는 1로 명확히 하기 위해 0.5를 기준으로 반올림합니다.\n",
        "    predicted_class = np.round(predictions[i])[0]\n",
        "\n",
        "    # 출력 포맷: 입력 -> 예측값 (실제값) [정답 여부]\n",
        "    # 예를 들어: [0.0, 0.0] -> 0.0 (0.0) [O]\n",
        "    print(f\"입력: {X[i]} -> 예측값: {predictions[i][0]:.4f} (클래스: {predicted_class}) [정답: {Y[i][0]}]\")"
      ],
      "metadata": {
        "colab": {
          "base_uri": "https://localhost:8080/"
        },
        "id": "Qdm_vW9DOOlB",
        "outputId": "9cc1adf1-591d-4efc-d6b6-fb4cff6e416b"
      },
      "execution_count": 10,
      "outputs": [
        {
          "output_type": "stream",
          "name": "stderr",
          "text": [
            "/usr/local/lib/python3.12/dist-packages/keras/src/layers/core/dense.py:93: UserWarning: Do not pass an `input_shape`/`input_dim` argument to a layer. When using Sequential models, prefer using an `Input(shape)` object as the first layer in the model instead.\n",
            "  super().__init__(activity_regularizer=activity_regularizer, **kwargs)\n"
          ]
        },
        {
          "output_type": "stream",
          "name": "stdout",
          "text": [
            "모델 학습 시작...\n",
            "모델 학습 완료!\n",
            "\n",
            "모델 평가 결과 - 손실(Loss): 0.0005, 정확도(Accuracy): 100.00%\n",
            "\u001b[1m1/1\u001b[0m \u001b[32m━━━━━━━━━━━━━━━━━━━━\u001b[0m\u001b[37m\u001b[0m \u001b[1m0s\u001b[0m 67ms/step\n",
            "\n",
            "--- 예측 결과 (Predicted Output) ---\n",
            "입력: [0. 0.] -> 예측값: 0.0017 (클래스: 0.0) [정답: 0.0]\n",
            "입력: [0. 1.] -> 예측값: 0.9999 (클래스: 1.0) [정답: 1.0]\n",
            "입력: [1. 0.] -> 예측값: 0.9999 (클래스: 1.0) [정답: 1.0]\n",
            "입력: [1. 1.] -> 예측값: 0.0000 (클래스: 0.0) [정답: 0.0]\n"
          ]
        }
      ]
    },
    {
      "cell_type": "code",
      "source": [],
      "metadata": {
        "id": "NU7olC09Qg85"
      },
      "execution_count": null,
      "outputs": []
    }
  ]
}