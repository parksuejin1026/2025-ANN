{
 "cells": [
  {
   "cell_type": "code",
   "execution_count": null,
   "id": "50de1267",
   "metadata": {},
   "outputs": [],
   "source": [
    "import numpy as np\n",
    "import matplotlib.pyplot as plt\n",
    "\n",
    "# 텐서플로의 케라스 api에서 필요한 함수들을 불러옵니다.\n",
    "from tensorflow.keras.models import Sequential\n",
    "from tensorflow.keras.layers import Dense\n",
    "\n",
    "x = np.array([2, 4, 6, 8, 10, 12, 14])\n",
    "y = np.array([0, 0, 0, 1, 1, 1, 1])\n",
    "\n",
    "model = Sequential()\n",
    "model.add(Dense(1, input_dim=1, activation='sigmoid'))\n",
    "model.compile(optimizer='sgd', loss='binary_crossentropy')\n",
    "model.fit(x, y, epochs=5000)\n",
    "\n",
    "plt.scatter(x, y)\n",
    "plt.plot(x, model.predict(x), 'r')\n",
    "plt.show()\n",
    "\n",
    "hour = 7\n",
    "prediction = model.predict([hour])\n",
    "print(\"%.f시간을 공부할 경우, 합격 예상 확률은 %.01f%%입니다.\" % (hour, prediction * 100))"
   ]
  },
  {
   "cell_type": "code",
   "execution_count": null,
   "id": "9340071d",
   "metadata": {},
   "outputs": [],
   "source": []
  }
 ],
 "metadata": {
  "language_info": {
   "name": "python"
  }
 },
 "nbformat": 4,
 "nbformat_minor": 5
}
