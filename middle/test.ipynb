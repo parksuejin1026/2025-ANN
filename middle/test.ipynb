{
  "nbformat": 4,
  "nbformat_minor": 0,
  "metadata": {
    "colab": {
      "provenance": [],
      "authorship_tag": "ABX9TyNdJkW5/hVQLuL2JSmmHbI6",
      "include_colab_link": true
    },
    "kernelspec": {
      "name": "python3",
      "display_name": "Python 3"
    },
    "language_info": {
      "name": "python"
    }
  },
  "cells": [
    {
      "cell_type": "markdown",
      "metadata": {
        "id": "view-in-github",
        "colab_type": "text"
      },
      "source": [
        "<a href=\"https://colab.research.google.com/github/parksuejin1026/2025-ANN/blob/main/middle/test.ipynb\" target=\"_parent\"><img src=\"https://colab.research.google.com/assets/colab-badge.svg\" alt=\"Open In Colab\"/></a>"
      ]
    },
    {
      "cell_type": "code",
      "source": [
        "import numpy as np\n",
        "\n",
        "from tensorflow.keras.models import Sequential\n",
        "from tensorflow.keras.layers import Dense\n",
        "\n",
        "x = np.array([[2, 0.5], [4, 0.8], [6,1], [8, 2.1]]) # Corrected array definition\n",
        "y = np.array([81, 93, 91, 97])\n",
        "\n",
        "model = Sequential()\n",
        "\n",
        "model.add(Dense(1, input_dim=2, activation = 'linear'))\n",
        "model.compile(optimizer ='sgd', loss='mse')\n",
        "\n",
        "model.fit(x,y,epochs=2000)\n",
        "\n",
        "hour = 7\n",
        "\n",
        "input_data = tf.constant([[hour, 0]], dtype=tf.float32) # Assuming 0 minutes when only hour is considered\n",
        "prediction = model.predict(input_data)[0][0]\n",
        "\n",
        "print(\"%.f을 이동할 경우의 예상 금액은 %.02f원입니다.\" % (hour, prediction))"
      ],
      "metadata": {
        "id": "0e0PJvxoiayA"
      },
      "execution_count": null,
      "outputs": []
    },
    {
      "cell_type": "code",
      "source": [
        "import tensorflow as tf\n",
        "\n",
        "distance = 7\n",
        "minutes = 5\n",
        "premium = 0\n",
        "\n",
        "input_data = tf.constant([[distance, minutesm, premium]]) # Assuming 0 minutes when only hour is considered\n",
        "prediction = model.predict(input_data)[0][0]\n",
        "\n",
        "print(\"%.f 거리를 이동하고 %.f분을 움직이고 할증이 %d이면 예상 금액은 %.02f원입니다.\" % (distance, minutes, premium, prediction))"
      ],
      "metadata": {
        "id": "TVAcMBb8itwj"
      },
      "execution_count": null,
      "outputs": []
    }
  ]
}