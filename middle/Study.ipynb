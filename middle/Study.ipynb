{
  "nbformat": 4,
  "nbformat_minor": 0,
  "metadata": {
    "colab": {
      "provenance": [],
      "authorship_tag": "ABX9TyOWSJ3RvbanZdGY7le6Wf49",
      "include_colab_link": true
    },
    "kernelspec": {
      "name": "python3",
      "display_name": "Python 3"
    },
    "language_info": {
      "name": "python"
    }
  },
  "cells": [
    {
      "cell_type": "markdown",
      "metadata": {
        "id": "view-in-github",
        "colab_type": "text"
      },
      "source": [
        "<a href=\"https://colab.research.google.com/github/parksuejin1026/2025-ANN/blob/main/middle/Study.ipynb\" target=\"_parent\"><img src=\"https://colab.research.google.com/assets/colab-badge.svg\" alt=\"Open In Colab\"/></a>"
      ]
    },
    {
      "cell_type": "markdown",
      "source": [
        "## 1주차 수업 / 시그모이드는 0,1 로 출력 생존인지 사망인지 결정할 때 사용하기 좋은 예시"
      ],
      "metadata": {
        "id": "er3WmklWH2pb"
      }
    },
    {
      "cell_type": "code",
      "execution_count": 1,
      "metadata": {
        "colab": {
          "base_uri": "https://localhost:8080/"
        },
        "id": "8j-9iGHHEpAA",
        "outputId": "c11668c2-90af-488c-a51f-2f39740a2c91"
      },
      "outputs": [
        {
          "output_type": "stream",
          "name": "stdout",
          "text": [
            "Epoch 1/5\n"
          ]
        },
        {
          "output_type": "stream",
          "name": "stderr",
          "text": [
            "/usr/local/lib/python3.12/dist-packages/keras/src/layers/core/dense.py:93: UserWarning: Do not pass an `input_shape`/`input_dim` argument to a layer. When using Sequential models, prefer using an `Input(shape)` object as the first layer in the model instead.\n",
            "  super().__init__(activity_regularizer=activity_regularizer, **kwargs)\n"
          ]
        },
        {
          "output_type": "stream",
          "name": "stdout",
          "text": [
            "\u001b[1m30/30\u001b[0m \u001b[32m━━━━━━━━━━━━━━━━━━━━\u001b[0m\u001b[37m\u001b[0m \u001b[1m1s\u001b[0m 2ms/step - accuracy: 0.8629 - loss: 3.4036   \n",
            "Epoch 2/5\n",
            "\u001b[1m30/30\u001b[0m \u001b[32m━━━━━━━━━━━━━━━━━━━━\u001b[0m\u001b[37m\u001b[0m \u001b[1m0s\u001b[0m 2ms/step - accuracy: 0.8632 - loss: 1.6254 \n",
            "Epoch 3/5\n",
            "\u001b[1m30/30\u001b[0m \u001b[32m━━━━━━━━━━━━━━━━━━━━\u001b[0m\u001b[37m\u001b[0m \u001b[1m0s\u001b[0m 2ms/step - accuracy: 0.8151 - loss: 0.4756 \n",
            "Epoch 4/5\n",
            "\u001b[1m30/30\u001b[0m \u001b[32m━━━━━━━━━━━━━━━━━━━━\u001b[0m\u001b[37m\u001b[0m \u001b[1m0s\u001b[0m 2ms/step - accuracy: 0.8585 - loss: 0.4060 \n",
            "Epoch 5/5\n",
            "\u001b[1m30/30\u001b[0m \u001b[32m━━━━━━━━━━━━━━━━━━━━\u001b[0m\u001b[37m\u001b[0m \u001b[1m0s\u001b[0m 3ms/step - accuracy: 0.8473 - loss: 0.4272\n"
          ]
        }
      ],
      "source": [
        "from tensorflow.keras.models import Sequential # 텐서플로우/케라스의 핵심 모델 구조인 Sequential 모델을 불러옵니다.\n",
        "from tensorflow.keras.layers import Dense # 인공신경망의 기본 구성 요소인 Dense(완전 연결) 레이어를 불러옵니다.\n",
        "import numpy as np # 배열 및 행렬 계산을 위한 핵심 라이브러리인 NumPy를 np라는 별칭으로 불러옵니다.\n",
        "\n",
        "# ----------------- 1. 데이터 로드 및 분리 -----------------\n",
        "# './data/ThoraricSurgery3.csv' 파일에서 데이터를 불러옵니다.\n",
        "# delimiter=\",\"는 데이터가 쉼표(comma)로 구분되어 있음을 나타냅니다.\n",
        "Data_set = np.loadtxt(\"./data/ThoraricSurgery3.csv\", delimiter=\",\")\n",
        "\n",
        "# 입력 데이터(특성, 피처)를 정의합니다.\n",
        "# Data_set의 모든 행(:)과 0번째 열부터 15번째 열까지(16은 포함하지 않음)의 데이터를 선택합니다.\n",
        "# 이 데이터(X)가 모델의 입력(흉부 수술 전 의료 기록 16가지 특성)이 됩니다.\n",
        "X = Data_set[:, 0:16]\n",
        "\n",
        "# 출력 데이터(레이블, 타겟)를 정의합니다.\n",
        "# Data_set의 모든 행(:)과 마지막 열(16번째 열, 0부터 시작)의 데이터를 선택합니다.\n",
        "# 이 데이터(y)가 모델이 예측해야 하는 값(수술 생존 여부: 0 또는 1)이 됩니다.\n",
        "y = Data_set[:, 16]\n",
        "\n",
        "# ----------------- 2. 모델 구조 정의 -----------------\n",
        "model = Sequential() # 순차적으로 레이어를 쌓아 올리는 딥러닝 모델 객체를 생성합니다.\n",
        "\n",
        "# 첫 번째 은닉 레이어를 추가합니다.\n",
        "model.add(Dense(\n",
        "    30,                 # 출력 뉴런(노드)의 개수를 30개로 설정합니다.\n",
        "    input_dim=16,       # 이 레이어가 받을 입력 데이터의 차원(특성 수)을 16으로 설정합니다. (첫 레이어에만 필요)\n",
        "    activation='relu'   # 활성화 함수로 ReLU(Rectified Linear Unit)를 사용합니다. (음수를 0으로 만듦)\n",
        "))\n",
        "\n",
        "# 출력 레이어를 추가합니다. (이진 분류 문제이므로 출력은 1개)\n",
        "model.add(Dense(\n",
        "    1,                  # 출력 뉴런의 개수를 1개로 설정합니다. (생존 여부 0 또는 1 예측)\n",
        "    activation='sigmoid'# 활성화 함수로 Sigmoid를 사용합니다. (출력을 0과 1 사이의 확률 값으로 변환)\n",
        "))\n",
        "\n",
        "# ----------------- 3. 모델 컴파일 (학습 설정) -----------------\n",
        "# 모델을 학습시키기 위한 환경 설정을 합니다.\n",
        "model.compile(\n",
        "    loss='binary_crossentropy', # 손실 함수(Loss Function)로 이진 교차 엔트로피를 사용합니다. (이진 분류에 적합)\n",
        "    optimizer='adam',           # 최적화 도구(Optimizer)로 Adam 알고리즘을 사용합니다. (가중치를 업데이트하는 효율적인 방식)\n",
        "    metrics=['accuracy']        # 모델의 성능을 측정할 평가 지표로 '정확도(accuracy)'를 사용합니다.\n",
        ")\n",
        "\n",
        "# ----------------- 4. 모델 학습 (훈련) -----------------\n",
        "# 컴파일된 모델을 실제 데이터로 학습시킵니다.\n",
        "history = model.fit(\n",
        "    X,                  # 학습에 사용할 입력 데이터(의료 기록)\n",
        "    y,                  # 학습에 사용할 정답 데이터(생존 여부)\n",
        "    epochs=5,           # 전체 학습 데이터셋을 총 5번 반복 학습합니다.\n",
        "    batch_size=16       # 한 번에 16개의 샘플씩 묶어서 가중치를 업데이트합니다.\n",
        ")"
      ]
    },
    {
      "cell_type": "markdown",
      "source": [
        "## 시그모이드 함수 = 0,1 중 하나를 출력해야되는 상황일 때 사용\n",
        "## $$\\sigma(x) = \\frac{1}{1 + e^{-x}}$$"
      ],
      "metadata": {
        "id": "GDIcslePRvgm"
      }
    },
    {
      "cell_type": "markdown",
      "source": [
        "# 선형회귀는 직선으로 나타냄\n",
        "\n",
        "---\n",
        "*최소제곱법 공식은 최적의 기울기와 최적의 y절편의 값을 찾는 공식임*\n",
        "\n",
        "$$a = \\frac{\\sum_{i=1}^{n} (x_i - \\bar{x})(y_i - \\bar{y})}{\\sum_{i=1}^{n} (x_i - \\bar{x})^2}$$\n",
        "\n",
        "\n"
      ],
      "metadata": {
        "id": "IgXku6d-S7Re"
      }
    },
    {
      "cell_type": "code",
      "source": [
        "# 선형회귀 직선 만들기\n",
        "import numpy as np\n",
        "\n",
        "# 이동거리에 따른 택시요금\n",
        "x = np.array([2 ,4 ,6, 8]) # 이동거리 x\n",
        "y = np.array([77, 88, 100, 123]) # 택시 요금 y\n",
        "\n",
        "# x,y 값의 평균을 구해주는 np함수 np.mean\n",
        "mx = np.mean(x)\n",
        "my = np.mean(y)\n",
        "\n",
        "# 출력으로 확인\n",
        "print(\"x의 평균값 : \", mx) # m은 mean 평균이라는 의미\n",
        "print(\"y의 평균값 : \", my,\"\\n\")\n",
        "\n",
        "divisor =sum([(i - mx) ** 2 for i in x]) # 분모값 구하기 i 값을 x의 값들인 2,4,6,8로 한번씩 총 4번 대입\n",
        "\n",
        "def top(x, mx, y, my): # 분자 구하기\n",
        "  d = 0\n",
        "  for i in range(len(x)):\n",
        "    d += (x[i] - mx) * (y[i] - my)\n",
        "  return d\n",
        "dividend = top(x, mx, y, my)\n",
        "\n",
        "print(\"분모 :\", divisor)\n",
        "print(\"분자 : \", dividend,\"\\n\" )\n",
        "\n",
        "# 기울기 a를 구하는 공식 (최소 제곱법 공식)\n",
        "a = dividend / divisor\n",
        "\n",
        "# y절편 b를 구하는 공식 y의 평균값 - (x의 평균값 * 기울기)\n",
        "b = my - (mx * a)\n",
        "\n",
        "# 출력으로 확인\n",
        "print(\"기울기 a = \", a, \"\\ny절편 b =\" , b)\n",
        "\n",
        "print(\"따라서 최적의 선형회귀직선을 나타내는 함수 f(x) = %.1fx + %.1f\" %(a,b))"
      ],
      "metadata": {
        "colab": {
          "base_uri": "https://localhost:8080/"
        },
        "id": "9mr9tLCEHV5Y",
        "outputId": "7a5ed84f-b387-499b-ddb3-ed836c271bc1"
      },
      "execution_count": 13,
      "outputs": [
        {
          "output_type": "stream",
          "name": "stdout",
          "text": [
            "x의 평균값 :  5.0\n",
            "y의 평균값 :  97.0 \n",
            "\n",
            "분모 : 20.0\n",
            "분자 :  150.0 \n",
            "\n",
            "기울기 a =  7.5 \n",
            "y절편 b = 59.5\n",
            "따라서 최적의 선형회귀직선을 나타내는 함수 f(x) = 7.5x + 59.5\n"
          ]
        }
      ]
    },
    {
      "cell_type": "markdown",
      "source": [
        "## 평균제곱오차"
      ],
      "metadata": {
        "id": "HBhaCjAAZxag"
      }
    },
    {
      "cell_type": "code",
      "source": [
        "import numpy as np\n",
        "\n",
        "# 가상의 기울기 a와 y절편 b 만들기\n",
        "fake_a = 3\n",
        "fake_b = 76\n",
        "\n",
        "# 이동거리 x와 금액 y의 넘파이 배열 생성\n",
        "x = np.array([2, 4, 6, 8])\n",
        "y = np.array([81, 93, 91, 97])\n",
        "\n",
        "# y = ax + b에 가상의 a,b 값을 대입한 결과를 출력하는 함수\n",
        "def predict(x):\n",
        "  return fake_a * x + fake_b\n",
        "\n",
        "# 예측 값이 들어갈 빈 리스트를 만들기\n",
        "predict_result = []\n",
        "\n",
        "# 모든 x값을 한 번씩 대입하여 predict_result 리스트를 완성하기\n",
        "for i in range(len(x)):\n",
        "  predict_result.append(predict(x[i]))\n",
        "  print(\"이동거리 = %.f km, 실제점수 = %.f , 예측점수 = %.f\" % (x[i], y[i], predict(x[i])))\n",
        "\n",
        "# 평균 제곱 오차 함수를 각 y값에 대입하여 최종 값을 구하는 함수\n",
        "n = len(x)\n",
        "def mse(y, y_pred):\n",
        "  return (1/n) * sum((y - y_pred) ** 2  )\n",
        "\n",
        "# 평균 제곱 오차 값을 출력\n",
        "print(\"평균 제곱 오차 : \" + str(mse(y,predict_result)))"
      ],
      "metadata": {
        "colab": {
          "base_uri": "https://localhost:8080/"
        },
        "id": "s05bMlgDVH1F",
        "outputId": "24bb8e8d-f21c-4027-e5d5-b5227fa8d259"
      },
      "execution_count": 15,
      "outputs": [
        {
          "output_type": "stream",
          "name": "stdout",
          "text": [
            "이동거리 = 2 km, 실제점수 = 81 , 예측점수 = 82\n",
            "이동거리 = 4 km, 실제점수 = 93 , 예측점수 = 88\n",
            "이동거리 = 6 km, 실제점수 = 91 , 예측점수 = 94\n",
            "이동거리 = 8 km, 실제점수 = 97 , 예측점수 = 100\n",
            "평균 제곱 오차 : 11.0\n"
          ]
        }
      ]
    },
    {
      "cell_type": "code",
      "source": [],
      "metadata": {
        "id": "0mXxeDbzawZG"
      },
      "execution_count": null,
      "outputs": []
    }
  ]
}